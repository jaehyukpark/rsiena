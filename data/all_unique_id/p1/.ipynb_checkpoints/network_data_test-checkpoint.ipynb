{
 "cells": [
  {
   "cell_type": "code",
   "execution_count": 1,
   "metadata": {},
   "outputs": [],
   "source": [
    "import pandas as pd"
   ]
  },
  {
   "cell_type": "code",
   "execution_count": 6,
   "metadata": {},
   "outputs": [
    {
     "name": "stdout",
     "output_type": "stream",
     "text": [
      "78 82\n",
      "79 80\n",
      "81 82\n",
      "82 82\n",
      "82 80\n"
     ]
    }
   ],
   "source": [
    "yrs = [str(i) for i in range(2001, 2006)]\n",
    "for yr in yrs:\n",
    "    dpath = '../../top100/period1_top100/pro_100_{}.dat'.format(yr)\n",
    "    df = pd.read_csv(dpath, sep='\\t', header=None)\n",
    "    df.columns = ['n1', 'n2']\n",
    "    n1_set, n2_set = df.n1.unique(), df.n2.unique()\n",
    "    print(len(n1_set), len(n2_set))"
   ]
  },
  {
   "cell_type": "code",
   "execution_count": null,
   "metadata": {},
   "outputs": [],
   "source": []
  }
 ],
 "metadata": {
  "kernelspec": {
   "display_name": "Python 3",
   "language": "python",
   "name": "python3"
  },
  "language_info": {
   "codemirror_mode": {
    "name": "ipython",
    "version": 3
   },
   "file_extension": ".py",
   "mimetype": "text/x-python",
   "name": "python",
   "nbconvert_exporter": "python",
   "pygments_lexer": "ipython3",
   "version": "3.6.4"
  }
 },
 "nbformat": 4,
 "nbformat_minor": 2
}
