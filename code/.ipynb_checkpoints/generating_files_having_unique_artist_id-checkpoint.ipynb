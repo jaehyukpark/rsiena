{
 "cells": [
  {
   "cell_type": "code",
   "execution_count": 17,
   "metadata": {},
   "outputs": [],
   "source": [
    "import os\n",
    "import glob\n",
    "import pandas as pd"
   ]
  },
  {
   "cell_type": "code",
   "execution_count": 15,
   "metadata": {},
   "outputs": [],
   "source": [
    "dpath = '/Users/jaehyukpark/GitRepo/artist_network/data/'"
   ]
  },
  {
   "cell_type": "code",
   "execution_count": 49,
   "metadata": {},
   "outputs": [
    {
     "name": "stdout",
     "output_type": "stream",
     "text": [
      "     artist_id  p1_id  p2_id  p3_id\n",
      "995        996    NaN    NaN    NaN\n",
      "996        997    NaN  568.0  671.0\n",
      "997        998    NaN    NaN    NaN\n",
      "998        999    NaN    NaN  672.0\n",
      "999       1000    NaN    NaN    NaN\n"
     ]
    }
   ],
   "source": [
    "# Generate the id matching table\n",
    "id_list = [i for i in range(1, 1001)]\n",
    "id_df = pd.DataFrame(id_list, columns=['artist_id'])\n",
    "for i in range(1, 4):\n",
    "    p_df = pd.read_csv(os.path.join(dpath, 'id_p{}.csv'.format(i)))\n",
    "    p_df['p{}_id'.format(str(i))] = p_df['p{}_id'.format(i)]\n",
    "    id_df = pd.merge(id_df, p_df, on='artist_id', how='outer')\n",
    "print(id_df.tail())"
   ]
  },
  {
   "cell_type": "code",
   "execution_count": 65,
   "metadata": {},
   "outputs": [],
   "source": [
    "# Convert ids in edgelist files to unique artist ids\n",
    "d_range = ['all', 'top100']\n",
    "for r in d_range:\n",
    "    for p in range(1, 4):\n",
    "        for f in glob.glob(os.path.join(dpath, '{}/p{}/*.dat'.format(r,p))):\n",
    "            outf = f.replace('/{}/'.format(r), '/{}_unique_id/'.format(r))\n",
    "            df = pd.read_csv(f, sep='\\t')\n",
    "            # Conversion for edgelist files\n",
    "            if ('pro_' in f) or ('market_' in f):\n",
    "                df.columns = ['n1', 'n2']\n",
    "                for col in df.columns:\n",
    "                    df[col] = pd.merge(df, id_df[['artist_id', 'p{}_id'.format(p)]], left_on=col, \n",
    "                                              right_on='p{}_id'.format(p), how='left')['artist_id']\n",
    "            # Conversion for attribute files\n",
    "            else:\n",
    "                y_cols = ['y{}'.format(i) for i in range(1,6)]\n",
    "                df.columns = y_cols\n",
    "                df['p{}_id'.format(p)] = [i+1 for i in range(len(df))]\n",
    "                df = pd.merge(id_df, df, on='p{}_id'.format(p), how='left')[y_cols]\n",
    "                df = df.fillna(0)\n",
    "            df.to_csv(outf, sep='\\t', index=False, header=False)"
   ]
  }
 ],
 "metadata": {
  "kernelspec": {
   "display_name": "Python 3",
   "language": "python",
   "name": "python3"
  },
  "language_info": {
   "codemirror_mode": {
    "name": "ipython",
    "version": 3
   },
   "file_extension": ".py",
   "mimetype": "text/x-python",
   "name": "python",
   "nbconvert_exporter": "python",
   "pygments_lexer": "ipython3",
   "version": "3.6.4"
  }
 },
 "nbformat": 4,
 "nbformat_minor": 2
}
