{
 "cells": [
  {
   "cell_type": "code",
   "execution_count": 1,
   "metadata": {},
   "outputs": [],
   "source": [
    "import os\n",
    "import glob\n",
    "import pandas as pd"
   ]
  },
  {
   "cell_type": "code",
   "execution_count": 2,
   "metadata": {},
   "outputs": [],
   "source": [
    "dpath = '/Users/jaehyukpark/GitRepo/artist_network/data/'"
   ]
  },
  {
   "cell_type": "code",
   "execution_count": 63,
   "metadata": {},
   "outputs": [
    {
     "name": "stdout",
     "output_type": "stream",
     "text": [
      "     p1_id  p2_id  p3_id\n",
      "992    NaN  566.0  668.0\n",
      "993    NaN  567.0  669.0\n",
      "994    NaN    NaN  670.0\n",
      "996    NaN  568.0  671.0\n",
      "998    NaN    NaN  672.0\n"
     ]
    }
   ],
   "source": [
    "# Generate the id matching table\n",
    "id_list = [i for i in range(1, 1001)]\n",
    "id_df = pd.DataFrame(id_list, columns=['artist_id'])\n",
    "for i in range(1, 4):\n",
    "    p_df = pd.read_csv(os.path.join(dpath, 'id_p{}.csv'.format(i)))\n",
    "    id_df = pd.merge(id_df, p_df, on='artist_id', how='outer')\n",
    "id_df = id_df[['p1_id', 'p2_id', 'p3_id']].dropna(how='all')\n",
    "#id_df['artist_id'] = id_df.index + 1 \n",
    "print(id_df.tail())"
   ]
  },
  {
   "cell_type": "code",
   "execution_count": 35,
   "metadata": {},
   "outputs": [],
   "source": [
    "# Convert ids in edgelist files to unique artist ids\n",
    "d_range = ['all']\n",
    "for r in d_range:\n",
    "    for p in range(1, 4):\n",
    "        for f in glob.glob(os.path.join(dpath, '{}/p{}/*.dat'.format(r,p))):\n",
    "            outf = f.replace('/{}/'.format(r), '/{}_unique_id/'.format(r))\n",
    "            df = pd.read_csv(f, sep='\\t', header=None)\n",
    "            # Conversion for edgelist files\n",
    "            if ('pro_' in f) or ('market_' in f):\n",
    "                df.columns = ['n1', 'n2']\n",
    "                for col in df.columns:\n",
    "                    df[col] = pd.merge(df, id_df[['artist_id', 'p{}_id'.format(p)]], left_on=col, \n",
    "                                              right_on='p{}_id'.format(p), how='left')['artist_id']\n",
    "            # Conversion for attribute files\n",
    "            else:\n",
    "                y_cols = ['y{}'.format(i) for i in range(1,6)]\n",
    "                df.columns = y_cols\n",
    "                df['p{}_id'.format(p)] = [i+1 for i in range(len(df))]\n",
    "                df = pd.merge(id_df, df, on='p{}_id'.format(p), how='left')[y_cols]\n",
    "                df = df.fillna(0)\n",
    "            df.to_csv(outf, sep='\\t', index=False, header=False)"
   ]
  },
  {
   "cell_type": "code",
   "execution_count": 50,
   "metadata": {},
   "outputs": [],
   "source": [
    "# Test\n",
    "df = pd.DataFrame()\n",
    "for i in range(11, 16):\n",
    "    fname = os.path.join(dpath, 'all/p3/market_all_20{}.dat'.format(i))\n",
    "    ydf = pd.read_csv(fname, sep='\\t', header=None)\n",
    "    #ydf.columns= [str(i) for i in range(len(df.columns))]\n",
    "    df = pd.concat([df, ydf], ignore_index=True)"
   ]
  },
  {
   "cell_type": "code",
   "execution_count": 61,
   "metadata": {},
   "outputs": [
    {
     "data": {
      "text/html": [
       "<div>\n",
       "<style scoped>\n",
       "    .dataframe tbody tr th:only-of-type {\n",
       "        vertical-align: middle;\n",
       "    }\n",
       "\n",
       "    .dataframe tbody tr th {\n",
       "        vertical-align: top;\n",
       "    }\n",
       "\n",
       "    .dataframe thead th {\n",
       "        text-align: right;\n",
       "    }\n",
       "</style>\n",
       "<table border=\"1\" class=\"dataframe\">\n",
       "  <thead>\n",
       "    <tr style=\"text-align: right;\">\n",
       "      <th></th>\n",
       "      <th>p1_id</th>\n",
       "      <th>p2_id</th>\n",
       "      <th>p3_id</th>\n",
       "    </tr>\n",
       "  </thead>\n",
       "  <tbody>\n",
       "    <tr>\n",
       "      <th>992</th>\n",
       "      <td>NaN</td>\n",
       "      <td>566.0</td>\n",
       "      <td>668.0</td>\n",
       "    </tr>\n",
       "    <tr>\n",
       "      <th>993</th>\n",
       "      <td>NaN</td>\n",
       "      <td>567.0</td>\n",
       "      <td>669.0</td>\n",
       "    </tr>\n",
       "    <tr>\n",
       "      <th>994</th>\n",
       "      <td>NaN</td>\n",
       "      <td>NaN</td>\n",
       "      <td>670.0</td>\n",
       "    </tr>\n",
       "    <tr>\n",
       "      <th>996</th>\n",
       "      <td>NaN</td>\n",
       "      <td>568.0</td>\n",
       "      <td>671.0</td>\n",
       "    </tr>\n",
       "    <tr>\n",
       "      <th>998</th>\n",
       "      <td>NaN</td>\n",
       "      <td>NaN</td>\n",
       "      <td>672.0</td>\n",
       "    </tr>\n",
       "  </tbody>\n",
       "</table>\n",
       "</div>"
      ],
      "text/plain": [
       "     p1_id  p2_id  p3_id\n",
       "992    NaN  566.0  668.0\n",
       "993    NaN  567.0  669.0\n",
       "994    NaN    NaN  670.0\n",
       "996    NaN  568.0  671.0\n",
       "998    NaN    NaN  672.0"
      ]
     },
     "execution_count": 61,
     "metadata": {},
     "output_type": "execute_result"
    }
   ],
   "source": [
    "id_df.tail()"
   ]
  },
  {
   "cell_type": "code",
   "execution_count": null,
   "metadata": {},
   "outputs": [],
   "source": []
  }
 ],
 "metadata": {
  "kernelspec": {
   "display_name": "Python 3",
   "language": "python",
   "name": "python3"
  },
  "language_info": {
   "codemirror_mode": {
    "name": "ipython",
    "version": 3
   },
   "file_extension": ".py",
   "mimetype": "text/x-python",
   "name": "python",
   "nbconvert_exporter": "python",
   "pygments_lexer": "ipython3",
   "version": "3.6.4"
  }
 },
 "nbformat": 4,
 "nbformat_minor": 2
}
